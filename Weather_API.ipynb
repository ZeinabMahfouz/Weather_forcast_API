{
 "cells": [
  {
   "cell_type": "code",
   "execution_count": 7,
   "id": "35ce91c1-6bf0-43b8-ba0b-65d1fe37c520",
   "metadata": {},
   "outputs": [
    {
     "name": "stdin",
     "output_type": "stream",
     "text": [
      "\n",
      "Enter a city name (or type 'exit' to quit):  455\n"
     ]
    },
    {
     "name": "stdout",
     "output_type": "stream",
     "text": [
      "\n",
      "Error: No matching location found.\n",
      "Please enter a valid city.\n"
     ]
    },
    {
     "name": "stdin",
     "output_type": "stream",
     "text": [
      "\n",
      "Enter a city name (or type 'exit' to quit):  mosco\n"
     ]
    },
    {
     "name": "stdout",
     "output_type": "stream",
     "text": [
      "\n",
      "Weather in Moscow, Russia\n",
      "Local Time: 2025-07-25 04:57\n",
      "Current Temp: 16.3 °C\n",
      "Condition: Clear\n",
      "Humidity: 94%\n",
      "\n",
      "3-Day Forecast:\n",
      "  2025-07-25\n",
      "     Max: 28.4 °C | Min: 17.9 °C\n",
      "     Chance of Rain: 0%\n",
      "  2025-07-26\n",
      "     Max: 25.2 °C | Min: 16.0 °C\n",
      "     Chance of Rain: 0%\n",
      "  2025-07-27\n",
      "     Max: 26.3 °C | Min: 16.3 °C\n",
      "     Chance of Rain: 0%\n"
     ]
    },
    {
     "name": "stdin",
     "output_type": "stream",
     "text": [
      "\n",
      "Do you want to check another city? (yes/no):  ddd\n"
     ]
    },
    {
     "name": "stdout",
     "output_type": "stream",
     "text": [
      "Goodbye!\n"
     ]
    }
   ],
   "source": [
    "import requests\n",
    "\n",
    "API_KEY = 'a503190cf6dd47a0b1804743252507'\n",
    "BASE_URL = 'http://api.weatherapi.com/v1/forecast.json'\n",
    "\n",
    "def get_weather_forecast(city_name, days=3):\n",
    "    params = {\n",
    "        'key': API_KEY,\n",
    "        'q': city_name,\n",
    "        'days': days,\n",
    "        'aqi': 'no',\n",
    "        'alerts': 'no'\n",
    "    }\n",
    "\n",
    "    response = requests.get(BASE_URL, params=params)\n",
    "\n",
    "    if response.status_code == 200:\n",
    "        data = response.json()\n",
    "        location = data['location']\n",
    "        current = data['current']\n",
    "        forecast_days = data['forecast']['forecastday']\n",
    "\n",
    "        print(f\"\\nWeather in {location['name']}, {location['country']}\")\n",
    "        print(f\"Local Time: {location['localtime']}\")\n",
    "        print(f\"Current Temp: {current['temp_c']} °C\")\n",
    "        print(f\"Condition: {current['condition']['text']}\")\n",
    "        print(f\"Humidity: {current['humidity']}%\")\n",
    "        \n",
    "        print(\"\\n3-Day Forecast:\")\n",
    "        for day in forecast_days:\n",
    "            date = day['date']\n",
    "            day_info = day['day']\n",
    "            print(f\"  {date}\")\n",
    "            print(f\"     Max: {day_info['maxtemp_c']} °C | Min: {day_info['mintemp_c']} °C\")\n",
    "            print(f\"     Chance of Rain: {day_info['daily_chance_of_rain']}%\")\n",
    "        return True  # Success\n",
    "    else:\n",
    "        try:\n",
    "            error_msg = response.json()['error']['message']\n",
    "        except:\n",
    "            error_msg = response.text\n",
    "        print(f\"\\nError: {error_msg}\")\n",
    "        return False  # Failed\n",
    "\n",
    "if __name__ == '__main__':\n",
    "    while True:\n",
    "        while True:\n",
    "            city = input(\"\\nEnter a city name (or type 'exit' to quit): \").strip()\n",
    "            if city.lower() == 'exit':\n",
    "                print(\"Goodbye!\")\n",
    "                exit()\n",
    "            elif city:\n",
    "                success = get_weather_forecast(city)\n",
    "                if success:\n",
    "                    break  # break inner loop if city was valid\n",
    "                else:\n",
    "                    print(\"Please enter a valid city.\")\n",
    "            else:\n",
    "                print(\"No city entered.\")\n",
    "\n",
    "        again = input(\"\\nDo you want to check another city? (yes/no): \").strip().lower()\n",
    "        if again not in ['yes', 'y']:\n",
    "            print(\"Goodbye!\")\n",
    "            break\n"
   ]
  },
  {
   "cell_type": "code",
   "execution_count": null,
   "id": "415ed570-f0cc-4b49-90ce-1b3e33d4d89c",
   "metadata": {},
   "outputs": [],
   "source": []
  }
 ],
 "metadata": {
  "kernelspec": {
   "display_name": "Python 3 (ipykernel)",
   "language": "python",
   "name": "python3"
  },
  "language_info": {
   "codemirror_mode": {
    "name": "ipython",
    "version": 3
   },
   "file_extension": ".py",
   "mimetype": "text/x-python",
   "name": "python",
   "nbconvert_exporter": "python",
   "pygments_lexer": "ipython3",
   "version": "3.11.5"
  }
 },
 "nbformat": 4,
 "nbformat_minor": 5
}
